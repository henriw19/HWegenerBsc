{
 "cells": [
  {
   "attachments": {},
   "cell_type": "markdown",
   "metadata": {},
   "source": [
    "# Stabiliser Codes\n",
    "\n",
    "The digitization of errors in quantum computing enables the adaptation of classical error correction techniques for quantum codes. However, certain challenges arise due to:\n",
    "\n",
    "- The \"No-Cloning Theorem\" which prevents the duplication of quantum states.\n",
    "- The wavefunction collapse, restricting arbitrary access to the state as in classical error correction.\n",
    "\n",
    "To address these challenges, the *stabiliser framework* was introduced for constructing quantum error correction codes. The core concept involves redundantly re-encoding a $k$-qubit state $|\\psi \\rangle$ across an $n$-qubit entangled *logical* state $|\\psi\\rangle_L$. The resulting code is denoted as $[[N,K,D]]$, with double brackets distinguishing quantum codes from classical ones.\n",
    "\n",
    "Within the stabiliser framework, the quantum counterpart of a classical parity check is a *stabiliser check*. A stabiliser is an $n$-qubit Pauli operator $S\\in\\mathcal{G}^{\\otimes N}$ (where $\\mathcal{G}^{\\otimes N}$ denotes the $N$-qubit Pauli group) that preserves the logical state:\n",
    "\n",
    "$$ S |\\psi\\rangle_L = (+1) |\\psi\\rangle_L$$\n",
    "\n",
    "Suppose the logical state is corrupted by a Pauli operator $E\\in\\mathcal{G}^{\\otimes N}$. The stabiliser's action can be described as:\n",
    "\n",
    "$$ S E|\\psi\\rangle_L =  (\\lambda =?) ES|\\psi\\rangle_L=(\\lambda =?) E|\\psi\\rangle_L$$\n",
    "\n",
    "The phase $\\lambda$ depends on whether $E$ commutes with $S$. If $[E,S]=0$, then $SE = ES$ and $\\lambda = 1$. Otherwise, $SE = -1ES$ and $\\lambda = -1$.\n",
    "\n",
    "If $S$ anti-commutes with $E$, we can differentiate between cases where $E$ has occurred or not by measuring $S$. When there is no error:\n",
    "\n",
    "$$ S |\\psi\\rangle_L = (+1) |\\psi\\rangle_L$$\n",
    "\n",
    "And when an error is present:\n",
    "\n",
    "$$ S E |\\psi\\rangle_L = (-1) E |\\psi\\rangle_L$$\n",
    "\n",
    "In practice, we identify the eigenspace ($+1$ or $-1$) through a non-destructive projective procedure, where $S$ is measured using an ancilla qubit. Stabiliser extraction circuits can be found in relevant review papers (eg. my review paper ;))"
   ]
  },
  {
   "attachments": {},
   "cell_type": "markdown",
   "metadata": {},
   "source": [
    "## Exercise 4.01 - Pauli Algebra\n",
    "\n",
    "- Show that $P_iP_j = (-1)P_jP_i$ for all $i,j \\in \\{X,Y,Z\\}$ if $i\\neq j$.\n",
    "- Show that $ P_iP_j = P_jP_i$ if $i=j$ for $i,j\\in \\{X,Y,Z\\}$\n",
    "- Use this to determine the conditions under which any two Pauli operators commute or anti-commute. \n",
    "- Write a function that determines whether any two length-$n$ Pauli operators commute or anti-commute with one another. See skeleton code in `src/hwbsc/pauli.py`."
   ]
  },
  {
   "attachments": {},
   "cell_type": "markdown",
   "metadata": {},
   "source": [
    "## Stabiliser syndromes\n",
    "\n",
    "A stabiliser matrix (the qunatum analog of the parity check matrix) is a matrix of Pauli operators in which each row corresponds to a code stabiliser. Eg. the $[[4,2,2]]$ quantum detection code has stabilisers $\\mathcal{S}=\\langle XXXX, ZZZZ\\rangle$. The quantum parity check matrix is therefore\n",
    "\n",
    "$$H_Q = \\begin{pmatrix} X&X&X&X\\\\Z&Z&Z&Z \\end{pmatrix}$$\n",
    "\n",
    "The syndrome $\\mathbf{s}$ for a Pauli error $E$ can be computed as follows:\n",
    "\n",
    "- For each stabiliser $S_i\\in  H_Q$ (ie. each row the stabiliser matrix), check whether the $S$ commutes with $E$.\n",
    "- If $E$ commutes with $S_i$, set position $i$ in $\\mathbf{s}$ to $0$.\n",
    "- If $E$ anti-commutes with $S_i$, set position $i$ in $\\mathbf{s}$ to $1$. "
   ]
  },
  {
   "attachments": {},
   "cell_type": "markdown",
   "metadata": {},
   "source": [
    "## Exercise 4.02\n",
    "\n",
    "- Write a function that computes the syndrome for an arbitrary $m\\times n$ stabiliser matrix $H_Q\\in \\mathcal{G}^{m\\otimes n}$ applied to a length-$n$ Pauli error $E$.\n",
    "\n",
    "- The 5-qubit perfect code, also known as the quantum error-correcting code, is capable of detecting and correcting any single-qubit error. The code has a $[[5, 1, 3]]$ structure, meaning it encodes 1 logical qubit using 5 physical qubits and has a minimum distance of 3. The stabilizers of the 5-qubit perfect code are given by four independent stabilizer generators. These generators are:\n",
    "$$S_1 = X_0 Z_1 Z_2 X_3 I_4$$\n",
    "$$S_2 = I_0 X_1 Z_2 Z_3 X_4$$\n",
    "$$S_3 = X_0 I_1 X_2 Z_3 Z_4$$\n",
    "$$S_4 = Z_0 X_1 I_2 X_3 Z_4$$\n",
    "\n",
    "- Compute a syndrome table for all single-qubit $X$, $Y$ and $Z$ errors. Show that each single-qubit Pauli error maps to a unique syndrome."
   ]
  },
  {
   "attachments": {},
   "cell_type": "markdown",
   "metadata": {},
   "source": [
    "## Stabiliser commutivity requirement\n",
    "\n",
    "Code stabilisers are designed to be measured simultaneously on the quantum state. By the Heisenberg uncertainty principle, we know that quantum observables can only be measured simultaneously if the corresponding measurement operators commute with one another. As such, we require that all the rows of the stabiliser matrix commute with one another such that\n",
    "\n",
    "$$[S_i,S_j]=0 \\ \\text{for all} \\ \\{S_i,S_j\\}\\in H_Q$$"
   ]
  },
  {
   "attachments": {},
   "cell_type": "markdown",
   "metadata": {},
   "source": [
    "## Exercise 4.03\n",
    "\n",
    "- Show that all of the stabilisers of the 5-qubit code mutually commute.\n",
    "- Write a function to check that the commutivity requirement is satisfied for an arbitrary stabiliser matrix $H_Q$."
   ]
  },
  {
   "attachments": {},
   "cell_type": "markdown",
   "metadata": {},
   "source": [
    "## Logical operators\n",
    "\n",
    "Every stabiliser code (encoding more than one logical qubit) has a generating set of logical operators $\\langle \\mathcal{L}\\rangle\\in\\mathcal{G}^{2K\\otimes N}$ correponding to bit-flip $\\bar{X}_i$ and phase-flip $\\bar{Z}_i$ operators on the encoded qubits, labelled $i=0,1..(k-1)$. Logical operators need to act on the logical codewords without collapsing the encoded quantum information. To satisfy this requirement, we require that the logical operators commute with all of the code stabilisers such that\n",
    "\n",
    "$$[L_i,S_j] = 0 \\ \\text{for all} \\ L_i \\in \\mathcal{L} \\ \\text{and all} \\ S_j \\in H_Q$$\n",
    "\n",
    "The above requirement is another way of saying that logical operators map to the zero-syndrome.\n",
    "\n",
    "The second requirement on the logical operators is that they are not stabilisers. Ie. it should not be possible to obtain the logical operator via some multiplicative combination of the stabilisers.\n",
    "\n",
    "The final requirement on the logical operators is that each logical operator $L_i$ anti-commutes with at least one other logical operator $L_j$.\n",
    "\n",
    "\n"
   ]
  },
  {
   "attachments": {},
   "cell_type": "markdown",
   "metadata": {},
   "source": [
    "## Exercise 4.04 - Computing the logical operators of the [[4,2,2]] code\n",
    "\n",
    "- Compute the full syndrome table for the $[[4,2,2]]$ code (hint: there should be $256$ entries in this syndrome table).\n",
    "- Identify all of the logical operators.\n",
    "- Identify a generating set of the logical operators (there should be 4 in total).\n",
    "- Show that all of the logical requirements are satisfied for this generating set.\n",
    "- Explain why $S_iL_j\\in \\mathcal{L}$ for all $L_j \\in \\mathcal{L}$ and $S_i\\in \\mathcal{S}$. Ie. demonstrate that the product of any logical operator and stabiliser is always a logical operator."
   ]
  },
  {
   "cell_type": "markdown",
   "metadata": {},
   "source": []
  }
 ],
 "metadata": {
  "language_info": {
   "name": "python"
  },
  "orig_nbformat": 4
 },
 "nbformat": 4,
 "nbformat_minor": 2
}
