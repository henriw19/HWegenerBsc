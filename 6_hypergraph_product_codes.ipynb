{
 "cells": [
  {
   "attachments": {},
   "cell_type": "markdown",
   "metadata": {},
   "source": [
    "# Hypergraph product codes\n",
    "\n",
    "## The challenges of quantum code design\n",
    "\n",
    "We have now seen that a quantum CSS can be constructed by building a parity check matrix with the form:\n",
    "\n",
    "$$ H = \\begin{pmatrix}0&H_Z\\\\H_X&0\\end{pmatrix}$$\n",
    "\n",
    "Here, $H_X$ and $H_Z$ represent classical codes designed to detect phase-flips and bit-flips respectively. However, the task isn't as straightforward as choosing our two favourite codes for $H_X$ and $H_Z$. This is because of the necessity for stabilizers to commute, which implies that the product of $H_X$ and the transpose of $H_Z$ must equal zero, ie. $H_X\\cdot H_Z^T=0$. This property imposes restrictions on the selection of $H_X$ and $H_Z$, making the design of quantum codes a challenging task."
   ]
  },
  {
   "attachments": {},
   "cell_type": "markdown",
   "metadata": {},
   "source": [
    "## Exercise 6.01\n",
    "\n",
    "- Use your `CssCode` class to show that setting $H=H_X=H_Z$ where $H$ is a repetition code does not result in a valid code. "
   ]
  },
  {
   "attachments": {},
   "cell_type": "markdown",
   "metadata": {},
   "source": [
    "Designing quantum codes is challenging, largely due to the need for stabilizers to commute, i.e., $H_X\\cdot H_Z^T=0$. One practical approach to find such sets of stabilizers is using a method called *product construction*. This can be envisaged as a procedural blueprint that transforms classical codes into commuting sets of stabilizers.\n",
    "\n",
    "In this tutorial, we'll look at a specific form of product construction, called the *hypergraph* product. This concept, first introduced by [[Tillich & Zemor 2014]](https://arxiv.org/abs/0903.0566), works with any classical matrix $H$ (referred to as the 'seed'). It allows us to create a quantum CSS code by defining the $H_X$ and $H_Z$ components as:\n",
    "\n",
    "$$H_X = \\begin{bmatrix} H \\otimes I_n, I_m \\otimes H^T \\end{bmatrix}$$\n",
    "$$H_Z = \\begin{bmatrix} I_n \\otimes H, H^T \\otimes I_m \\end{bmatrix}$$\n",
    "\n",
    "Here, $m$ and $n$ are the number of rows and columns in the seed parity check matrix $H$, respectively. The advantage of the hypergraph product lies in its ability to guarantee commuting stabilizers, regardless of the form of $H$. This makes it a useful tool in quantum code design."
   ]
  },
  {
   "attachments": {},
   "cell_type": "markdown",
   "metadata": {},
   "source": [
    "## Exercise 6.02: Prooving the commutation of hypergraph product matrices\n",
    "\n",
    "Verify that for the Hypergraph product matrices, $H_X\\cdot H_Z^T$ equals zero.\n",
    "\n",
    "## Exercise 6.03: Creating a CSS code with the hypergraph product\n",
    "\n",
    "Generate a CSS code by applying the hypergraph product to the Hamming code. Determine the $[[N,K,D]]$ code parameters for this code (excluding the distance for now).\n",
    "\n",
    "## Exercise 6.04: Establishing the total number of physical qubits in a hypergraph product encoding\n",
    "\n",
    "Establish a general relationship for the $N$ parameter of a hypergraph product. As a hint, this parameter depends on the number of bits in the original seed code. Experiment with different classical codes to develop an understanding.\n",
    "\n",
    "## Exercise 6.05: Determining the number of qubits encoded by a hypergraph product code\n",
    "\n",
    "Determine a general relationship for the number of qubits, $K$, encoded by a hypergraph product code. This relationship will be connected to the number of logical bits encoded by the seed code $H$."
   ]
  }
 ],
 "metadata": {
  "language_info": {
   "name": "python"
  },
  "orig_nbformat": 4
 },
 "nbformat": 4,
 "nbformat_minor": 2
}
