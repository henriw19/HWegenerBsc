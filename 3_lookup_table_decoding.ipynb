{
 "cells": [
  {
   "attachments": {},
   "cell_type": "markdown",
   "metadata": {},
   "source": [
    "# Lookup-table decoding\n",
    "\n",
    "In the previous notebook we learnt how error correction protocols can be defined through the parity check matrix formalism. The parity check matrix defines a series of constraints that can be tested to obtain a *code syndrome*. The code syndrome can then be *decoded* to obtain a suitable recovery operation. More succicently, the aim of the decoder is to find to obtain the most probable bitstring $\\mathbf{\\tilde{e}}$ consistent with the measured syndrome:\n",
    "\n",
    "$$\\mathbf{\\tilde{e}} = {\\rm ARGMAX}_\\mathbf{e}(P(\\mathbf{e}|\\mathbf{s}))$$\n",
    "\n",
    "One easy ...  but incredibly inneficient ... decoding method is to make a lookup table that enumerates over all syndromes. This brute-force approach involves the following steps:\n",
    "\n",
    "- Create a syndrome table for all $2^n$ combinations of errors, where $n$ is the length of the code.\n",
    "- Create a dictionary (or equivalent data-structure) that maps each syndrome to the lowest weight error that could generate it under the action of the parity check matrix H."
   ]
  },
  {
   "attachments": {},
   "cell_type": "markdown",
   "metadata": {},
   "source": [
    "## Exercise 3.01\n",
    "\n",
    "Creat a lookup table decoder class that works for any parity check matrix.\n",
    "- See `src/hwbsc/decoders.py` for the skeleton."
   ]
  },
  {
   "attachments": {},
   "cell_type": "markdown",
   "metadata": {},
   "source": [
    "## Monte-Carlo Decoding Simulations\n",
    "\n",
    "A Monte-Carlo Decoding (MCD) simulation is a numerical technique for testing the performance of a code under a given noise model. The essential simulation procedure is summarised below:\n",
    "\n",
    "- Randomly generate an error $\\mathbf{e}$ according to the chosen error model parameterised by some physical error rate $p$.\n",
    "- Measure the syndrome $\\mathbf{s} = H \\cdot \\mathbf{e}$\n",
    "- Decode the syndrome to obtain a recovery vector $\\mathbf{r}$.\n",
    "- If $\\mathbf{r} + \\mathbf{e} = 0$, then the decoding is a success.\n",
    "\n",
    "Running the above decoding procedure multiple times allows a *logical error rate* $p_L$ to be computed. This can be compared against the physical error rate $p$ to determine whether the error correction procedure is usefully supressing the error rate."
   ]
  },
  {
   "attachments": {},
   "cell_type": "markdown",
   "metadata": {},
   "source": [
    "## Exercise 3.02\n",
    "\n",
    "- Write a Monte Carlo decoding function that can decode any parity check matrix with a Lookup table decoder. To sample errors, use the binary symmetric error channel, where each bit to subject to a bit-flip error with probability $p$ and no error with probabilty $1-p$.\n",
    "- For the Hamming code, create a decoding plot that records the logical error rate (Y-axis) against the physical error rate (X-axis).\n",
    "- Make the same plot for the repetiton code of length-7. Compare the two decoding plots.\n",
    "- For both codes, determine the pseudo-threshold. This is the physical error rate at which the physical error rate is equal to the logical error rate."
   ]
  },
  {
   "cell_type": "markdown",
   "metadata": {},
   "source": []
  }
 ],
 "metadata": {
  "language_info": {
   "name": "python"
  },
  "orig_nbformat": 4
 },
 "nbformat": 4,
 "nbformat_minor": 2
}
