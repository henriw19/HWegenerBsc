{
 "cells": [
  {
   "attachments": {},
   "cell_type": "markdown",
   "metadata": {},
   "source": [
    "# Stabiliser Codes in GF2\n",
    "\n",
    "In the previous guide, we delved into the way stabiliser codes can be expressed through a check matrix, where each row depicts a stabiliser constraint using a Pauli operator. This matrix, aptly termed the stabiliser matrix, encompasses all the crucial information about the code. It empowers us to calculate code parameters, compute syndromes, and execute decoding by means of standard lookup table techniques. Nevertheless, this representation has an inherent limitation - the dependency on a four-symbol (GF4) alphabet, which hinders us from using the extensive array of tools and techniques devised for classical linear codes. Fortuitously, there exists a convenient mapping that permits the transformation of any Pauli operator into a binary string. As we will demonstrate, this mapping simplifies the processing of all facets of a stabiliser code, including decoding, by using GF2 (binary) arithmetic.\n",
    "\n",
    "## The GF2 Mapping for Pauli Operators\n",
    "\n",
    "Any Pauli operator $P\\in \\mathcal{G}^{\\otimes N}$ of length-$N$ can be depicted as a length-$2N$ binary vector $\\mathcal{B}(P)=\\mathbf{p} \\in \\mathbb{F}_2^{2N}$. The mapping $\\mathcal{B}(.)$ transforms the single-qubit Pauli operators in the following manner:\n",
    "\n",
    "$$ \\mathcal{B}(X)=\\begin{pmatrix}& 1&|&0 &\\end{pmatrix}$$\n",
    "$$ \\mathcal{B}(Y)=\\begin{pmatrix}& 1&|&1 &\\end{pmatrix}$$\n",
    "$$ \\mathcal{B}(Z)=\\begin{pmatrix}& 0&|&1 &\\end{pmatrix}$$\n",
    "\n",
    "Typically, a length-$N$ Pauli operator is mapped to a length $2N$ binary string in the ensuing form:\n",
    "\n",
    "$$\\mathcal{B}(P)=\\mathbf{p} = (\\mathbf{p}_X|\\mathbf{p}_Z) \\in \\mathbb{F}_2^{2N}$$\n",
    "\n",
    "For instance, the operator $IIXIYZ$ is mapped in the following way:\n",
    "\n",
    "$$ \\mathcal{B}(X_2Y_4Z_5)=\\left(001010|000011\\right)$$"
   ]
  },
  {
   "attachments": {},
   "cell_type": "markdown",
   "metadata": {},
   "source": [
    "## Exercise 5.01\n",
    "\n",
    "- Write a function that maps any Pauli operator to its binary representation."
   ]
  },
  {
   "attachments": {},
   "cell_type": "markdown",
   "metadata": {},
   "source": [
    "## Exercise 5.02 - Checking for Pauli commutivity\n",
    "\n",
    "In the previous tuturial we saw that Pauli operators anti-commute if they intersect non-trivially on an odd number of qubits. For two Pauli operators represented in GF2, $\\mathbf{p}_1$ and $\\mathbf{p}_2$, we can check commutivity by calculating the symplectic product:\n",
    "\n",
    "$$ \\mathbf{p}_1\\star\\mathbf{p}_2= \\mathbf{p}_1\\cdot I_Q \\cdot \\mathbf{p}_2^T \\ \\mod 2$$\n",
    "\n",
    "- The above equation returns $0$ if the Paulis commute and $1$ if they anti-commute. What is the form of the matrix $I_Q$?\n",
    "- Write a function that calculates the symplectic product between any two Pauli operators (the inputs should be the Pauli operators in the their GF2 form)."
   ]
  },
  {
   "attachments": {},
   "cell_type": "markdown",
   "metadata": {},
   "source": [
    "## Exercise 5.03 - The stabiliser matrix in GF2\n",
    "\n",
    "- Map the stabiliser matrix of the five-qubit code to GF2. This matrix should have the form $H=[H'_X | H'_Z] \\in \\mathbb{F}_2^{4\\times10}$.\n",
    "- Write a function that computes the code syndrome using the GF2 stabiliser matrix and GF2 error as input.\n",
    "- Write a function that checks whether the rows of the stabiliser matrix $H=[H'_X | H'_Z] \\in \\mathbb{F}_2^{m\\times2n}$ mutually commute (ie. check whether the matrix represents a valid code.) \n"
   ]
  },
  {
   "attachments": {},
   "cell_type": "markdown",
   "metadata": {},
   "source": [
    "## Exercise 5.04 - Computing a basis of the Logical opertors in GF2\n",
    "\n",
    "Recall that the logical operators are Paulis that commute with all the stabilisers, but aren't themselves stabilisers.\n",
    "- Write a function that computes a basis of the logical operators $\\langle L \\rangle = [L_X|L_Z]\\in \\mathbb{F}_2^{k\\times2n}$ from the stabiliser matrix $H=[H'_X | H'_Z] \\in \\mathbb{F}_2^{m\\times2n}$. Hint, you should make use of the `ldpc.mod2.kernel` and `ldpc.mod2.rank` functions in the `ldpc` package."
   ]
  },
  {
   "attachments": {},
   "cell_type": "markdown",
   "metadata": {},
   "source": [
    "## Calderbank, Shor and Steane (CSS) codes\n",
    "\n",
    "Calderbank, Shor and Steane (CSS) codes are a sub-class of stabiliser codes that have stabiliser checks that be decomposed into the following form:\n",
    "\n",
    "$$H = \\begin{bmatrix}0&H_Z\\\\H_X&0\\end{bmatrix}$$\n",
    "\n",
    "Ie. with the stabiliser matrix in the above form, all stabilisers consist either exclusively of Pauli-$X$ type operators, or exclusivley of Pauli-$Z$ type operators."
   ]
  },
  {
   "attachments": {},
   "cell_type": "markdown",
   "metadata": {},
   "source": [
    "## Exercise 5.05 - Stabiliser commutivity for CSS codes\n",
    "\n",
    "- Show that for CSS codes, the stabiliser commitivity requirement simplifies to verifying that:\n",
    "\n",
    "$$ H_X\\cdot H_Z^T =0 $$"
   ]
  },
  {
   "attachments": {},
   "cell_type": "markdown",
   "metadata": {},
   "source": [
    "## Exercise 5.06 - The Steane Code\n",
    "\n",
    "- The Steane code is created by setting $H_X$ and $H_Z$ to be the Hamming code. Write a function that generates the GF2 stabiliser matrix of this code.\n",
    "- Show that the stabilisers of the Steane code mutually commute.\n",
    "- Show that the Steane code encodes 1 logical qubit."
   ]
  },
  {
   "attachments": {},
   "cell_type": "markdown",
   "metadata": {},
   "source": [
    "## Exercise 5.07 - The distance of a quantum code\n",
    "\n",
    "Recall that any stabiliser multiplied by a logical operator is also a logical operator. The distance of a quantum code is given by the minimum-weight logical operator. This is formally defined as the row with minimum Hamming weight in the matrix defined by:\n",
    "\n",
    "$$ \\text{ROWSPAN}\\left(\\begin{matrix}H\\\\L\\end{matrix}\\right)$$\n",
    "\n",
    "where $H$ is the stabiliser matrix in GF2 and $L$ is a basis of logical operators in GF2.\n",
    "\n",
    "- Write a function that computes the distance of any quantum stabiliser code.\n",
    "- Show that the Steane code has distance 3.\n",
    "- Use your functions to verify that the code parameters of the $[[4,2,2]]$ code.\n",
    "\n",
    "\n"
   ]
  },
  {
   "attachments": {},
   "cell_type": "markdown",
   "metadata": {},
   "source": [
    "## Exercise 5.08\n",
    "\n",
    "- Show that the following stabiliser matrix can be represented as a CSS code (hint use the `ldpc.mod2.row_echelon` function):"
   ]
  },
  {
   "cell_type": "code",
   "execution_count": 13,
   "metadata": {},
   "outputs": [],
   "source": [
    "import numpy as np\n",
    "H = np.array([[0, 0, 0, 0, 1, 0, 0, 1, 0, 0, 0, 1, 1, 1, 1, 0, 0, 0, 0, 0, 0, 0, 1, 0, 0, 0],\n",
    "       [0, 0, 0, 0, 0, 0, 0, 0, 0, 0, 0, 0, 0, 0, 1, 1, 0, 0, 0, 0, 0, 0, 0, 1, 0, 0],\n",
    "       [0, 0, 0, 0, 0, 0, 0, 0, 0, 0, 0, 0, 0, 0, 0, 0, 1, 1, 0, 0, 0, 0, 1, 0, 1, 0],\n",
    "       [0, 0, 0, 0, 0, 0, 0, 0, 0, 0, 0, 0, 0, 0, 0, 0, 0, 1, 1, 0, 0, 0, 0, 1, 0, 1],\n",
    "       [0, 0, 1, 0, 0, 1, 0, 0, 0, 0, 1, 0, 0, 0, 0, 0, 0, 0, 0, 1, 1, 0, 0, 0, 1, 0],\n",
    "       [0, 0, 0, 1, 0, 0, 1, 0, 0, 0, 0, 1, 0, 0, 0, 0, 0, 0, 0, 0, 1, 1, 0, 0, 0, 1],\n",
    "       [1, 0, 0, 1, 0, 0, 0, 0, 0, 1, 0, 0, 0, 0, 0, 0, 0, 0, 0, 0, 0, 0, 0, 0, 0, 0],\n",
    "       [0, 1, 0, 0, 1, 0, 0, 0, 0, 1, 1, 0, 0, 0, 0, 0, 0, 0, 0, 0, 0, 0, 0, 0, 0, 0],\n",
    "       [0, 0, 1, 0, 0, 1, 0, 0, 0, 0, 1, 0, 0, 0, 0, 0, 0, 0, 0, 0, 0, 0, 0, 0, 0, 0],\n",
    "       [0, 0, 0, 1, 0, 0, 1, 0, 0, 0, 0, 1, 0, 0, 0, 0, 0, 0, 0, 0, 0, 0, 0, 0, 0, 0],\n",
    "       [0, 0, 0, 0, 1, 0, 0, 1, 0, 0, 0, 1, 1, 0, 0, 0, 0, 0, 0, 0, 0, 0, 0, 0, 0, 0],\n",
    "       [0, 0, 0, 0, 0, 1, 0, 0, 1, 0, 0, 0, 1, 0, 0, 0, 0, 0, 0, 0, 0, 0, 0, 0, 0, 0]]).astype(int)"
   ]
  },
  {
   "attachments": {},
   "cell_type": "markdown",
   "metadata": {},
   "source": [
    "- Show that the above stabiliser matrix represents a CSS code with parameters $[[13,1,3]]$\n",
    "- Write a function that checks whether a stabiliser code is CSS. Use this function to show that the five qubit code is not CSS.\n",
    "- Write a function that transforms a stabiliser matrix into its CSS form (if the previous function passes)."
   ]
  },
  {
   "attachments": {},
   "cell_type": "markdown",
   "metadata": {},
   "source": [
    "## Exercise 5.09 - The syndrome equation for the CSS code\n",
    "\n",
    "- Show that the syndrome equation for a CSS code can be written as follows:\n",
    "\n",
    "$$ \\mathbf{s}=H\\star(\\mathbf{e}_X|\\mathbf{e}_Z)=(\\mathbf{s}_X|\\mathbf{s}_Z)$$\n",
    "\n",
    "where $\\mathbf{s}_X = H_Z\\cdot \\mathbf{e}_X$ and $\\mathbf{s}_Z = H_X\\cdot \\mathbf{e}_Z$.\n",
    "\n",
    "- What is the significance of the above simplification in the context of decoding?"
   ]
  },
  {
   "attachments": {},
   "cell_type": "markdown",
   "metadata": {},
   "source": [
    "## Exercise 5.10 - Classes for codes\n",
    "\n",
    "- Write a class that builds a stabiliser code from a stabiliser parity check matrix (see skeleton in `src/hwbsc/stab_codes.py`)\n",
    "- Write a class that inherits from the above class called `CssCode`.\n",
    "- Write a class that inherits from `CssCode` and constructs the Steane code."
   ]
  },
  {
   "attachments": {},
   "cell_type": "markdown",
   "metadata": {},
   "source": []
  }
 ],
 "metadata": {
  "kernelspec": {
   "display_name": "test",
   "language": "python",
   "name": "python3"
  },
  "language_info": {
   "codemirror_mode": {
    "name": "ipython",
    "version": 3
   },
   "file_extension": ".py",
   "mimetype": "text/x-python",
   "name": "python",
   "nbconvert_exporter": "python",
   "pygments_lexer": "ipython3",
   "version": "3.10.6"
  },
  "orig_nbformat": 4
 },
 "nbformat": 4,
 "nbformat_minor": 2
}
