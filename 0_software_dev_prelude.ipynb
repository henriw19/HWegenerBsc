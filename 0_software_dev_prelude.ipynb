{
 "cells": [
  {
   "attachments": {},
   "cell_type": "markdown",
   "id": "e10e26d7",
   "metadata": {},
   "source": [
    "# Sofware development - best practices\n",
    "\n",
    "**Sorry in advance ... this first set of tasks will likely be pretty boring.** The aim of this notebook is to get you familiar with some *best practices* for computational physics. Not very interesting, but it's best to learn this stuff at the beginning as it will prove useful down the line."
   ]
  },
  {
   "attachments": {},
   "cell_type": "markdown",
   "id": "6b9a8d94",
   "metadata": {},
   "source": [
    "## Python Installation\n",
    "\n",
    "In my opinion, the easiest way to install Python is to use the `Miniconda` installation. This can be downloaded from here:\n",
    "- Miniconda install: https://docs.conda.io/en/latest/miniconda.html\n",
    "- Once it is downloaded, install with the default settings.\n",
    "- After install, restart your computer (I don't know why you have to do this, but I've found things are often not properly installed without restart).\n",
    "\n",
    "To check whether it is sucessfully installed, open your terminal and type:\n",
    "\n",
    "```text\n",
    "which python\n",
    "```\n",
    "\n",
    "If installation has been sucessful, you should see something like\n",
    "\n",
    "```text\n",
    "/home/joschka/miniconda3/envs/hwbsc/bin/python\n",
    "```"
   ]
  },
  {
   "attachments": {},
   "cell_type": "markdown",
   "id": "051f7f3f",
   "metadata": {},
   "source": [
    "## Setting up the Python environment\n",
    "\n",
    "It is important that you set up a Python environment for your project. You can think of this of being like a box that contains the python installation specific for your project. The purpose of using a python environmnet is to make sure you have fully specified all the requirements and dependencies for your code. This will make it easier for others to use your code on different computers.\n",
    "\n",
    "To create a python envirnoment. Type the following into your terminal:\n",
    "\n",
    "```text\n",
    "conda create --name hwbsc python=3.11\n",
    "```\n",
    "\n",
    "Say yes to all of the subsequent questions. In the above, the command sets up a Python v3.11 environment called `hwbsc`. To activate your environment, enter the following command:\n",
    "\n",
    "```text\n",
    "conda activate hwbsc\n",
    "```\n",
    "\n",
    "To check whether the envirnoment has been correctly setup, enter:\n",
    "\n",
    "```text\n",
    "python --version\n",
    "```\n",
    "\n",
    "If all is good, the above should tell you that the python version is 3.11.\n"
   ]
  },
  {
   "attachments": {},
   "cell_type": "markdown",
   "id": "ff9e7bc2",
   "metadata": {},
   "source": [
    "## Installing packages using 'pip'\n",
    "\n",
    "Once the python environment is set up, you should start installing some commonly used packages. Eg. we will use the `numpy` package for all the numerics we do. To install this, type the following into your terminal:\n",
    "\n",
    "```text\n",
    "pip install numpy\n",
    "```\n",
    "\n",
    "Another package we will make heavy use of is 'matplotlib'. To install this type:\n",
    "\n",
    "```text\n",
    "pip install matplotlib\n",
    "```\n",
    "\n",
    "Finally, we also need need to install jupyter notebook:\n",
    "\n",
    "```text\n",
    "pip install jupyter\n",
    "```\n",
    "\n",
    "If you discover any other packages you need, they can usually be installed using 'pip'. Just type:\n",
    "\n",
    "```text\n",
    "pip install PackageName\n",
    "```"
   ]
  },
  {
   "attachments": {},
   "cell_type": "markdown",
   "id": "66ba47d0",
   "metadata": {},
   "source": [
    "## Code editor\n",
    "\n",
    "Pretty much every one in our department uses VsCode. I would recommend it. It can be installed from here:\n",
    "\n",
    "https://code.visualstudio.com/\n",
    "\n",
    "To open this repository in VsCode, open a terminal and navigate to the repository root. Then type:\n",
    "\n",
    "```text\n",
    "code .\n",
    "```\n",
    "\n",
    "Once you are in VsCode, you can open this notebook by double clicking on it in the navigation panel on the left. Once the notebook has opened, make sure you are running it in the `hwbsc` environment. This can be selected by clicking on the 'kernel' button in the top right."
   ]
  },
  {
   "attachments": {},
   "cell_type": "markdown",
   "id": "7374d8dd",
   "metadata": {},
   "source": [
    "## Project structure\n",
    "\n",
    "It is good practice to put all of your functions into a 'src' folder. I have created this for you. If you look inside `src` you will see a python file called `hwbsc/hello.py`. This contains a function that prints \"Hello world\". To access this function, we can import it as follows:"
   ]
  },
  {
   "cell_type": "code",
   "execution_count": 1,
   "id": "7b5033d6",
   "metadata": {},
   "outputs": [
    {
     "name": "stdout",
     "output_type": "stream",
     "text": [
      "Hello World!\n"
     ]
    }
   ],
   "source": [
    "from src.hwbsc.hello import hello_world\n",
    "hello_world()"
   ]
  },
  {
   "attachments": {},
   "cell_type": "markdown",
   "id": "d67299d8",
   "metadata": {},
   "source": [
    "In the given example, you imported the hello_world function from the hello.py file located in the `src/hwbsc directory`. It works because the notebook and the src folder are in the same directory. However, if you were in a different directory or didn't know the exact location of hello.py, the import would fail, as demonstrated in the `scratch/import_fail_example.py` file.\n",
    "\n",
    "To make your code accessible from anywhere on your computer, you can use the setuptools package to create a pip wrapper for your project.\n",
    "\n",
    "First, install setuptools using the following command:\n",
    "\n",
    "```text\n",
    "pip install setuptools\n",
    "```\n",
    "\n",
    "Next, you need to create a setup.py file in the root directory of your project (the same level as the src folder). The setup.py file should contain the following code:"
   ]
  },
  {
   "attachments": {},
   "cell_type": "markdown",
   "id": "7f0d90c8",
   "metadata": {},
   "source": [
    "```python\n",
    "# Import the setuptools module\n",
    "import setuptools\n",
    "\n",
    "# Configure the package with the setup() function from setuptools\n",
    "setuptools.setup(\n",
    "\n",
    "    # Set the name of the package\n",
    "    name=\"hwbsc\",\n",
    "\n",
    "    # Set the version number of the package\n",
    "    version=\"0.1.0\",\n",
    "\n",
    "    # Specify the package to be included in the distribution\n",
    "    packages=[\"hwbsc\"],\n",
    "\n",
    "    # Specify the package dependencies required for the package to work properly\n",
    "    install_requires=[\n",
    "        \"numpy\",\n",
    "        \"matplotlib\",\n",
    "        \"jupyter\",\n",
    "    ],\n",
    "\n",
    "    # Specify the minimum Python version required to run the package\n",
    "    python_requires=\">=3.11\",\n",
    "\n",
    "    # Specify the directory where the source files are located\n",
    "    package_dir={\"\": \"src\"},\n",
    ")\n",
    "```"
   ]
  },
  {
   "attachments": {},
   "cell_type": "markdown",
   "id": "90dad257",
   "metadata": {},
   "source": [
    "Now, you can install your project as a package using the following command, run from the same directory as your setup.py file:\n",
    "\n",
    "```text\n",
    "pip install -e .\n",
    "```\n",
    "\n",
    "The -e flag installs the package in \"editable\" mode, meaning that any changes you make to the source code will be immediately reflected in the installed package.\n",
    "\n",
    "With your project installed as a package, you can now import the hello_world function from anywhere on your computer like this:"
   ]
  },
  {
   "cell_type": "code",
   "execution_count": 1,
   "id": "b22ee942",
   "metadata": {},
   "outputs": [
    {
     "name": "stdout",
     "output_type": "stream",
     "text": [
      "Hello World!\n"
     ]
    }
   ],
   "source": [
    "from hwbsc.hello import hello_world\n",
    "hello_world()"
   ]
  },
  {
   "attachments": {},
   "cell_type": "markdown",
   "id": "16356533",
   "metadata": {},
   "source": [
    "The advantage of wrapping your code is a package like this is that you can then use all of your function without having to know where they are defined relative to the current location of the python file you are writing. As an example, look at the file `scratch/import_after_pip_install.py`. We see that this runs fine. This is because we have now installed the `hwbsc` package globally."
   ]
  },
  {
   "attachments": {},
   "cell_type": "markdown",
   "id": "01fd39f2",
   "metadata": {},
   "source": [
    "## Test-driven development\n",
    "\n",
    "In stark contrast to quantum computers, classical computers exhibit remarkable error resilience. When an issue arises on a classical computer, it is often attributable to the user writing flawed code. To minimize such problems, it is crucial to rigorously test your code, ensuring that potential issues are detected and addressed promptly. One common approach is to create unit tests alongside your code. These tests verify that each function you write operates as intended.\n",
    "\n",
    "Various Python packages facilitate the creation of unit tests, and one popular choice is pytest. You can install it using the following command:\n",
    "\n",
    "```text\n",
    "pip install pytest\n",
    "```\n",
    "\n",
    "To demonstrate, let's create a function that calculates the square of any given integer. This function is defined in the src/hwbsc/demo.py file:"
   ]
  },
  {
   "cell_type": "code",
   "execution_count": 2,
   "id": "7b89906a",
   "metadata": {},
   "outputs": [
    {
     "data": {
      "text/plain": [
       "9"
      ]
     },
     "execution_count": 2,
     "metadata": {},
     "output_type": "execute_result"
    }
   ],
   "source": [
    "from hwbsc.demo import square\n",
    "\n",
    "square(3)"
   ]
  },
  {
   "attachments": {},
   "cell_type": "markdown",
   "id": "323e7c09",
   "metadata": {},
   "source": [
    "We see that our function is giving the expected answer for 3, but this is hardly a comprehensive test. To test more thoroughly, we can define a series of tests for a range of different integers in the file `tests/test_demo.py`. To run these tests, we call pytest as follows:\n",
    "\n",
    "```text\n",
    "pytest tests/\n",
    "```\n",
    "\n",
    "This command tells `pytest` to run all of the tests defined in the `tests/` directory."
   ]
  },
  {
   "attachments": {},
   "cell_type": "markdown",
   "id": "ab748b24",
   "metadata": {},
   "source": [
    "### Test-driven development: general procedure\n",
    "\n",
    "- Think about what your function should do. Ie. what its inputs and outputs should be.\n",
    "- Write a test for the function covering a broad range of input scenarios.\n",
    "- Write the function.\n",
    "- Debug the function until all the tests pass.\n"
   ]
  },
  {
   "attachments": {},
   "cell_type": "markdown",
   "id": "6ec40b8f",
   "metadata": {},
   "source": [
    "### Exercise 0.00\n",
    "\n",
    "Write a function that `cube` that cubes any integer input to it.\n",
    "  - Think about what the inputs and outputs of this function should be.\n",
    "  - Write a series of tests for `cube` in `tests/test_demo.py`\n",
    "  - Write the function `cube` in `src/hwbsc/demo.py`\n",
    "  - Debug the function until all the tests pass"
   ]
  },
  {
   "attachments": {},
   "cell_type": "markdown",
   "id": "b01a6e79",
   "metadata": {},
   "source": [
    "## Docstrings\n",
    "\n",
    "It is good practice to annotate all the functions you write with dostrings that describe its functionality. There are are a number of ways in which this can be done. My preferred style is the `numpy` style. As an example, the `square` function we wrote earlier is documented in `numpy` style as follows:\n",
    "\n",
    "```python\n",
    "import numpy as np\n",
    "\n",
    "def square(x: int) -> int:\n",
    "    \"\"\"\n",
    "    Return the square of an integer.\n",
    "\n",
    "    Parameters\n",
    "    ----------\n",
    "    x : int\n",
    "        The integer to be squared.\n",
    "\n",
    "    Returns\n",
    "    -------\n",
    "    int\n",
    "        The square of the input integer.\n",
    "    \"\"\"\n",
    "    return x*x\n",
    "```"
   ]
  },
  {
   "attachments": {},
   "cell_type": "markdown",
   "id": "415c33a8",
   "metadata": {},
   "source": [
    "## Exercise 0.01\n",
    "Add `numpy` sytle docstrings to the `cube` function you wrote in Exercise 0.01."
   ]
  },
  {
   "cell_type": "code",
   "execution_count": null,
   "id": "6992c9df",
   "metadata": {},
   "outputs": [],
   "source": []
  }
 ],
 "metadata": {
  "kernelspec": {
   "display_name": "Python 3 (ipykernel)",
   "language": "python",
   "name": "python3"
  },
  "language_info": {
   "codemirror_mode": {
    "name": "ipython",
    "version": 3
   },
   "file_extension": ".py",
   "mimetype": "text/x-python",
   "name": "python",
   "nbconvert_exporter": "python",
   "pygments_lexer": "ipython3",
   "version": "3.11.0"
  }
 },
 "nbformat": 4,
 "nbformat_minor": 5
}
