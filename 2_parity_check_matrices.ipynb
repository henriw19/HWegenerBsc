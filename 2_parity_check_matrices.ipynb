{
 "cells": [
  {
   "attachments": {},
   "cell_type": "markdown",
   "metadata": {},
   "source": [
    "# The parity-check formalism for error correction"
   ]
  },
  {
   "attachments": {},
   "cell_type": "markdown",
   "metadata": {},
   "source": [
    "The ultimate goal of this set of tutorials is to teach you how to design and simulate *qoantum* error correction codes. In the last sentence, you may have noticed that the word \"quantum\" was misspelled as \"qoantum.\" However, you were still able to understand the meaning of the sentence. This is an example of the error correction that is inherent in spoken and written communication in languages such as English and German.\n",
    "\n",
    "So, let's explore how we, as humans, decode the corrupted word \"qoantum\" and correct it to \"quantum.\" In school, we learned that in most Latin-derived languages, a \"Q\" is always followed by a \"U\" in valid words. This rule, or correlation, is stored in some portion of our brains. When we see a word containing a \"Q,\" we check this rule to see whether it is satisfied.\n",
    "\n",
    "In the case of the received word \"qoantum,\" we see that the rule is violated, and we can immediately see a correction for the corrupted word: namely, that the second letter \"O\" should be swapped out for a \"U.\" This idea of storing and checking the veracity of correlations is the essential concept that underpins all error correction.  "
   ]
  },
  {
   "attachments": {},
   "cell_type": "markdown",
   "metadata": {},
   "source": [
    "## Parity checks\n",
    "\n",
    "In the English language, we have an alphabet containing 26 distinct characters. Fortunately, when constructing binary linear error correction codes, the alphabet is much simpler, containing only two distinct symbols: \"0\" and \"1\". In this context, all correlations we establish and check for error corrections involve a so-called parity check. A parity check is a mod2 sum over a list of bits.\n",
    "\n",
    "For example, consider a bit-string with three symbols, $\\mathbf{b} = b_0b_1b_2$. In this case, the parity of the bit string is given by $p = (b_0+b_1+b_2) \\mod 2$. We can also compute the parity of a subset of the string, such as $p_{0,1} = (b_0+b_1) \\mod 2$.\n",
    "\n",
    "Parity checks play a crucial role in detecting and correcting errors in data transmission and storage systems, ensuring the integrity of information. By examining the parity of a bit string or a subset thereof, it is possible to identify whether an error has occurred, allowing for efficient error detection and correction."
   ]
  },
  {
   "attachments": {},
   "cell_type": "markdown",
   "metadata": {},
   "source": [
    "## Repetition Codes and Parity Checking\n",
    "\n",
    "In the previous tutorial, we discussed how a repetition code encoding can be understood as a simple duplication of bits in the original encoding. Now, we will demonstrate how repetition codes can be represented using a parity checking formalism. Let's start by considering a three-bit repetition code, where raw bits are mapped to codewords as follows:\n",
    "\n",
    "$$0\\rightarrow 000$$\n",
    "$$1\\rightarrow 111$$\n",
    "\n",
    "One immediate observation is that consecutive bits in the encoding have the same value. We can represent this observation using a series of parity checks:\n",
    "\n",
    "$$p_0 = (b_0 + b_1) \\mod 2 = 0$$\n",
    "$$p_1 = (b_1 + b_2) \\mod 2 = 0$$\n",
    "$$p_2 = (b_2 + b_0) \\mod 2 = 0$$\n",
    "\n",
    "It's important to note that all of the above sums are performed \"mod 2\". Now, let's suppose we receive a corrupted codeword \"010\". In this situation, we observe that both $p_0$ and $p_1$ do not equal zero: $p_0 = (0 + 1) \\mod 2 = 1$ and $p_1 = (1 + 0) \\mod 2 = 1$. This information indicates that the codeword is corrupted, and we need to perform some form of correction.\n",
    "\n",
    "Using parity checks in this manner allows us to detect and correct errors in repetition codes, ensuring that the information transmitted remains accurate and reliable.\n"
   ]
  },
  {
   "attachments": {},
   "cell_type": "markdown",
   "metadata": {},
   "source": [
    "## Parity-check Matrices\n",
    "\n",
    "In the above example, we wrote down three parity checks for the repetition code encoding. As these parity checks are linear equations with overlapping constraints, it makes sense to represent them as a single matrix equation:\n",
    "\n",
    "$$H \\cdot \\mathbf{b} = \\left(\\begin{matrix}1 & 1 & 0 \\\\\n",
    "0 & 1 & 1 \\\\\n",
    "1 & 0 & 1\\end{matrix}\\right) \\cdot \\left(\\begin{matrix}b_0 \\\\ b_1 \\\\ b_2\\end{matrix}\\right) = \\left(\\begin{matrix}0 \\\\ 0 \\\\ 0\\end{matrix}\\right)\n",
    "$$\n",
    "\n",
    "where $\\mathbf{b}$ is a repetition code codeword, either $000$ or $111$. From the above, it is clear that all information we need to know about the parity checks is contained within the matrix $H$. We call this the **parity check matrix**. Each column of the parity check matrix corresponds to bits $0$ to $n-1$ of the codeword, where $n$ is the length of the codeword. Each row of the parity check matrix corresponds to a parity check, with the non-zero positions marking out the bits (columns) involved in the check.\n",
    "\n",
    "## The Syndrome Equation\n",
    "\n",
    "The parity check matrix is defined such that it maps valid codewords to a zero-vector known as the zero-syndrome, $\\mathbf{s_0}$:\n",
    "\n",
    "$$\\mathbf{s_0} = H\\cdot \\mathbf{c} = 0$$\n",
    "\n",
    "where $\\mathbf{c}$ is a codeword of the error correction code defined by the parity checks of $H$. Now, consider the case where the codeword is corrupted by an error $\\mathbf{e}$. In this scenario, the received vector is given by $\\mathbf{c}+\\mathbf{e}$ (i.e., the original codeword plus the error). Now multiplying this by the parity check matrix, we get:\n",
    "\n",
    "$$ H \\cdot (\\mathbf{c}+\\mathbf{e}) = \\mathbf{s}_0 + \\mathbf{s} = \\mathbf{s}$$\n",
    "\n",
    "where $\\mathbf{s}$ is referred to as the **code syndrome**. As $\\mathbf{s}_0$ is simply the zero vector, the above equation can be simplified to:\n",
    "\n",
    "$$ H \\cdot \\mathbf{e} = \\mathbf{s}$$\n",
    "\n",
    "We refer to the above as the **syndrome equation** for the code $H$.\n",
    "\n",
    "Let's now return to the example of the three-bit repetition code. We see that $H\\cdot \\mathbf{c} = 0$ for both $\\mathbf{c} = 000$ and $\\mathbf{c} = 111$. However, we get non-zero syndromes when the parity check matrix is applied to non-codewords. Eg. consider the $\\mathbf{e} = 100$, here we get the non-zero syndrome $s = H\\cdot[1,0,0]^T = [1,0,1]^T$. The table below shows the syndromes for all error permutations:\n",
    "\n",
    "| Error Vector $\\mathbf{e}$ | Syndrome $\\mathbf{s}$ |\n",
    "|---------------------------|-----------------------|\n",
    "| 000                       | 0 0 0                 |\n",
    "| 001                       | 0 1 1                 |\n",
    "| 010                       | 1 1 0                 |\n",
    "| 011                       | 1 0 1                 |\n",
    "| 100                       | 1 0 1                 |\n",
    "| 101                       | 1 1 0                 |\n",
    "| 110                       | 0 1 1                 |\n",
    "| 111                       | 0 0 0                 |\n",
    "\n",
    "In the table above, we can see that the syndromes for the valid codewords $\\mathbf{c} = 000$ and $\\mathbf{c} = 111$ are zero, as expected. The non-zero syndromes correspond to error vectors, allowing us to detect and potentially correct errors by examining the syndrome of the received vector.\n",
    "\n",
    "For instance, if we receive the vector \"010\", we can compute the syndrome $H \\cdot \\mathbf{e} = [1, 1, 0]^T$. From the table, we see that this corresponds to a single error in the second position, allowing us to correct the error and obtain the original codeword.\n",
    "\n",
    "\n",
    "\n",
    "\n",
    "\n",
    "\n",
    "\n",
    "\n",
    "\n",
    "\n"
   ]
  },
  {
   "attachments": {},
   "cell_type": "markdown",
   "metadata": {},
   "source": [
    "## The code distance\n",
    "\n",
    "From the syndrome table for the three-bit code, we see that all bit-strings apart from the codewords give a non-zero syndrome. But what happens if the error is $\\mathbf{e} = 111$ (i.e., equal to one of the codewords)? In this case, we get the zero syndrome, meaning we are left non-the-wiser as to whether anything is wrong. We call undetectable errors of this type **logical errors**. The code distance is the minimum Hamming weight of a non-zero bitstring that maps to a zero syndrome under the action of $H$. In other words, it is the minimum weight of a codeword. For the three-bit repetition code example, the $111$ is the minimum-weight codeword, so the distance of the code is $d=3$.\n",
    "\n"
   ]
  },
  {
   "attachments": {},
   "cell_type": "markdown",
   "metadata": {},
   "source": [
    "## Exercise 2.01\n",
    "\n",
    "- Write a function that creates the parity check matrix of length $n$ repetition code (see skeleton in `src/hwbsc/codes.py`).\n",
    "- Write a function that creates a syndrome table for any parity check matrix (put this in the `src/hwbsc/code_utils.py` file).\n",
    "- Remember to write docstrings and tests."
   ]
  },
  {
   "attachments": {},
   "cell_type": "markdown",
   "metadata": {},
   "source": [
    "## Exercise 2.02 - The Hamming Code\n",
    "\n",
    "The Hamming code is defined by the following parity checks:\n",
    "\n",
    "$$p_0 = (b_0 + b_1 + b_2 + b_3)\\mod 2= 0$$\n",
    "$$p_1 = (b_1 + b_2 + b_4 + b_5)\\mod 2 =0 $$\n",
    "$$p_2 = (b_2 + b_3 + b_4 + b_6)\\mod 2= 0$$\n",
    "\n",
    "- Write down the parity check matrix corresponding to the above parity checks.\n",
    "- Compute the syndrome table for the Hamming code.\n",
    "- Use the syndrome table to determine the distance of the code.\n",
    "- Put a `hamming_code()` function that returns the Hamming code pcm in `codes.py` so that you can easily access it in future (we will use the Hamming code a lot!).\n",
    "- Draw the factor graph of the Hamming code."
   ]
  },
  {
   "attachments": {},
   "cell_type": "markdown",
   "metadata": {},
   "source": [
    "## Codewords: formal definition\n",
    "\n",
    "Previously, we have seen that the repetition code encodes a single logical bit by mapping the binary variables $\\mathcal{B}=\\{0,1\\}$ to binary codewords $\\mathcal{C}=\\{000,111\\}$. In general, codewords $\\mathbf{c}$ are defined as binary strings that are in the kernel (aka the *nullspace*) of the parity check matrix, such that:\n",
    "\n",
    "$$ H \\cdot \\mathbf{c} \\mod 2 = 0$$\n",
    "\n",
    "for all $\\mathbf{c} \\in \\text{KERNEL}(H)$."
   ]
  },
  {
   "attachments": {},
   "cell_type": "markdown",
   "metadata": {},
   "source": [
    "## Exercise 2.03\n",
    "\n",
    "Find all of the codewords of the Hamming code (hint, you can reuse some of the code you wrote to find the distance)"
   ]
  },
  {
   "attachments": {},
   "cell_type": "markdown",
   "metadata": {},
   "source": [
    "## The number of logical bits encoded by a code\n",
    "\n",
    "The repetition code enocdes a single logical bit. However, linear binary codes can encode multiple logical bits within the same code block. The number of logical bits $k$ supported by a code is given by the number of linearly independent codewords of the code. Ie.\n",
    "\n",
    "$$ k = |\\langle \\text{KERNEL}(H) \\rangle | $$\n",
    "\n",
    "where the $\\langle A \\rangle$ brackets denotes a basis of the matrix $A$. One way of computing the row basis of a matrix is to perform row reduction to obtain the form:\n",
    "\n",
    "$$\\text{RowReduction}(A)\\rightarrow \\begin{bmatrix}G\\\\0\\end{bmatrix}$$\n",
    "\n",
    "The nonzero rows $G$ then define the basis of the matrix $A$.\n",
    "\n",
    "**Important**: As we are dealing with mod2 arithmetic, all row reduction operations need to be performed mod 2. This means we cannot simply use the *numpy* row reduction functions, but have to write our own functions.\n",
    "\n",
    "### Example: Row reduction (by hand)\n",
    "\n",
    "As an example, I will demonstrate how the parity check matrix of the three-bit repetition code is row-reduced. As defined previously, the parity check matrix is given by:\n",
    "\n",
    "$$H=\\left(\\begin{matrix}1 & 1 & 0 \\\\\n",
    "0 & 1 & 1 \\\\\n",
    "1 & 0 & 1\\end{matrix}\\right)\\rm.$$\n",
    "\n",
    "The aim of row reduction is to clear all matrix entries below the main diagonal by adding (and swapping rows). Starting in column 0, we see that adding row 0 to row 2 deletes the entry below the diagonal:\n",
    "\n",
    "$$RR_1 =\\left(\\begin{matrix}1 & 1 & 0 \\\\\n",
    "0 & 1 & 1 \\\\\n",
    "0 & 1 & 1\\end{matrix}\\right)$$\n",
    "\n",
    "Following this, we can add row 1 to row 2 to get the next step in the reduction:\n",
    "\n",
    "$$RR_2 =\\left(\\begin{matrix}1 & 1 & 0 \\\\\n",
    "0 & 1 & 1 \\\\\n",
    "0 & 0 & 0\\end{matrix}\\right)$$\n",
    "\n",
    "We now see that the matrix is the desired row reduced form. The nonzero rows of $RR_2$ constitute a basis of the original matrix H.\n",
    "\n",
    "\n",
    "$$\\langle H \\rangle = \\left(\\begin{matrix}1 & 1 & 0 \\\\\n",
    "0 & 1 & 1\\end{matrix}\\right)$$"
   ]
  },
  {
   "attachments": {},
   "cell_type": "markdown",
   "metadata": {},
   "source": [
    "## Exercise 2.04\n",
    "\n",
    "- Compute a basis of the matrix of codewords you computed in Exercise 2.03. Hint, you can use the `row_echelon` function from my code library to do this. See documentation here: https://roffe.eu/software/ldpc/ldpc/ldpc_mod2.html#ldpc.mod2.row_echelon\n",
    "- Calculate the number of logical bits $k$ that can be encoded by the code."
   ]
  },
  {
   "attachments": {},
   "cell_type": "markdown",
   "metadata": {},
   "source": [
    "## A quick way of calculating k\n",
    "\n",
    "There is a shortcut for calculating the dimension $k$ (number of logical bits) of a code via the Rank-Nullity theorem. This states that an $m\\times n$ parity check matrix encodes $k= n-\\text{rank}(H)$ logical bits. As always, the rank must be calculated using mod2 arithmetic."
   ]
  },
  {
   "attachments": {},
   "cell_type": "markdown",
   "metadata": {},
   "source": [
    "## Exercise 2.05\n",
    "\n",
    "- Use the rank-nullity theorem to calculate the number of logical bits encoded by the Hamming code. To calculate the mod2 rank, you should again use function in my code library.\n",
    "- Confirm that the answer you get is equal to the answer you got in Exercise 2.04."
   ]
  },
  {
   "attachments": {},
   "cell_type": "markdown",
   "metadata": {},
   "source": [
    "## Code parameters\n",
    "\n",
    "By convention, classical binary linear codes are labelled with the $[n,k,d]$ notation, where $n$ is the total number of bits in the code, $k$ is the number of logical bits and $d$ is the code distance."
   ]
  },
  {
   "attachments": {},
   "cell_type": "markdown",
   "metadata": {},
   "source": [
    "## Exercise 2.06\n",
    "\n",
    "- Compute show that the Hamming code has code parameters $[n=7,k=4,d=3]$\n",
    "- Write a function in `src/hwbsc/code_utils.py` that computes the dimension of any parity check matrix.\n",
    "- Write a function in `src/hwbsc/code_utils.py` that computes the distance of any parity check matrix.\n",
    "- Write a function that returns the code parameters of any parity check matrix."
   ]
  },
  {
   "attachments": {},
   "cell_type": "markdown",
   "metadata": {},
   "source": [
    "## Encoding bitstrings\n",
    "\n",
    "Raw binary strings can be mapped to codewords using a *generator* matrix. A generator matrix $G$ can be obtained from the parity check matrix $H$ as follows:\n",
    "\n",
    "$$ G = ( \\langle \\text{KERNEL}(H) \\rangle )^T$$\n",
    "\n",
    "As an example, let's return to our favourite three-bit repetition code\n",
    "\n",
    "$$H=\\left(\\begin{matrix}1 & 1 & 0 \\\\\n",
    "0 & 1 & 1 \\\\\n",
    "1 & 0 & 1\\end{matrix}\\right)\\rm.$$\n",
    "\n",
    "The kernel of $H$ is given by\n",
    "\n",
    "$$\\text{KERNEL}(H)=\\left(\\begin{matrix}0 & 0 & 0 \\\\\n",
    "1 & 1 & 1 \\end{matrix}\\right)\\rm.$$\n",
    "\n",
    "By performing row reduction, we get the following basis of the kernel\n",
    "\n",
    "$$\\langle \\text{KERNEL}(H) \\rangle=\\left(\\begin{matrix}1 & 1 & 1\\end{matrix}\\right)\\rm.$$\n",
    "\n",
    "The generator matrix is then obtained by taking the transpose of the above:\n",
    "\n",
    "$$ G = \\begin{pmatrix} 1\\\\1\\\\1\\end{pmatrix}$$\n",
    "\n",
    "A property of the generator matrix is that it always maps to zero under the action of the parity check matrix. Ie.\n",
    "\n",
    "$$H\\cdot G = 0$$\n",
    "\n",
    "The generator matrix maps binary strings of length $k$ to codewords of length $n$. For example, it is easy to verify that $G$ maps $0\\rightarrow 000$ and $1\\rightarrow 111$ for the three-bit repetition code.\n"
   ]
  },
  {
   "attachments": {},
   "cell_type": "markdown",
   "metadata": {},
   "source": [
    "## Exercise 2.07\n",
    "- Write a function that constructs the generator matrix $G$ from any parity check matrix $H$. See `src/hwbsc/code_utils.py` for the skeleton. Make sure to write tests. Eg. verify that your function outputs a generator matrix that satisfies $H\\cdot G = 0$.\n",
    "- Use your function to construct the generator matrix of the Hamming code.\n",
    "- Encode all sixteen permutations of the binary vector $\\mathbf{b}=b_0b_1b_2b_3$ as codewords of the Hamming code."
   ]
  },
  {
   "cell_type": "markdown",
   "metadata": {},
   "source": []
  }
 ],
 "metadata": {
  "kernelspec": {
   "display_name": "hwbsc",
   "language": "python",
   "name": "python3"
  },
  "language_info": {
   "codemirror_mode": {
    "name": "ipython",
    "version": 3
   },
   "file_extension": ".py",
   "mimetype": "text/x-python",
   "name": "python",
   "nbconvert_exporter": "python",
   "pygments_lexer": "ipython3",
   "version": "3.10.10"
  },
  "orig_nbformat": 4
 },
 "nbformat": 4,
 "nbformat_minor": 2
}
